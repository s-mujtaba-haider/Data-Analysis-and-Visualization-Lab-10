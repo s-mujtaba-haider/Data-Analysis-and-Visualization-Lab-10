{
  "nbformat": 4,
  "nbformat_minor": 0,
  "metadata": {
    "colab": {
      "provenance": []
    },
    "kernelspec": {
      "name": "python3",
      "display_name": "Python 3"
    },
    "language_info": {
      "name": "python"
    }
  },
  "cells": [
    {
      "cell_type": "code",
      "source": [
        "%load_ext rpy2.ipython"
      ],
      "metadata": {
        "id": "uwU5UiD6DNND"
      },
      "execution_count": null,
      "outputs": []
    },
    {
      "cell_type": "code",
      "execution_count": null,
      "metadata": {
        "colab": {
          "base_uri": "https://localhost:8080/"
        },
        "id": "9UPbCNYY-s8l",
        "outputId": "9caa5816-ef98-42dc-bea5-f0c1abd35927"
      },
      "outputs": [
        {
          "output_type": "stream",
          "name": "stdout",
          "text": [
            "[1] 125\n",
            "[1] 81\n"
          ]
        }
      ],
      "source": [
        "## Q - 1\n",
        "%%R\n",
        "my_power <- function(n, m) {\n",
        "print(n^m)\n",
        "}\n",
        "\n",
        "my_power(5, 3)\n",
        "my_power(3, 4)"
      ]
    },
    {
      "cell_type": "code",
      "source": [
        "## Q - 2\n",
        "%%R\n",
        "\n",
        "subtotal <- function(arr) {\n",
        "  print(arr[1])\n",
        "  for (i in 2:length(arr)) {\n",
        "    arr[i] <- arr[i] + arr[i - 1]\n",
        "    print(arr[i])\n",
        "  }\n",
        "}\n",
        "\n",
        "original_array <- c(5.8, 2.6, 9.1, 3.4, 7.0)\n",
        "\n",
        "average_result <- subtotal(original_array)"
      ],
      "metadata": {
        "colab": {
          "base_uri": "https://localhost:8080/"
        },
        "id": "7E81FDfQA5JX",
        "outputId": "ec0a11a9-49bd-44b7-a48c-6b7785be8e90"
      },
      "execution_count": null,
      "outputs": [
        {
          "output_type": "stream",
          "name": "stdout",
          "text": [
            "[1] 5.8\n",
            "[1] 8.4\n",
            "[1] 17.5\n",
            "[1] 20.9\n",
            "[1] 27.9\n"
          ]
        }
      ]
    },
    {
      "cell_type": "code",
      "source": [
        "## Q - 3\n",
        "%%R\n",
        "\n",
        "Counter <- function(char_array) {\n",
        "  total <- sum(nchar(char_array))\n",
        "  uppercase <- sum(char_array %in% LETTERS)\n",
        "  lowercase <- sum(char_array %in% letters)\n",
        "  spaces <- sum(char_array == \" \")\n",
        "\n",
        "  cat(\"No. of letters are:\", total - spaces, \"\\n\")\n",
        "  cat(\"No. of spaces are:\", spaces, \"\\n\")\n",
        "  cat(\"No. of uppercase letters are:\", uppercase, \"\\n\")\n",
        "  cat(\"No. of lowercase letters are:\", lowercase, \"\\n\")\n",
        "\n",
        "  return(list(\n",
        "    total = total,\n",
        "    spaces = spaces,\n",
        "    uppercase = uppercase,\n",
        "    lowercase = lowercase\n",
        "  ))\n",
        "}\n",
        "\n",
        "# Example usage\n",
        "input_string <- \"Hello, I am a student of FAST University.\"\n",
        "result <- Counter(strsplit(input_string, \"\")[[1]])"
      ],
      "metadata": {
        "colab": {
          "base_uri": "https://localhost:8080/"
        },
        "id": "NKnK5_fMGS68",
        "outputId": "534c3607-d51b-4d8d-b0af-af1981b46692"
      },
      "execution_count": null,
      "outputs": [
        {
          "output_type": "stream",
          "name": "stdout",
          "text": [
            "No. of letters are: 34 \n",
            "No. of spaces are: 7 \n",
            "No. of uppercase letters are: 7 \n",
            "No. of lowercase letters are: 25 \n"
          ]
        }
      ]
    },
    {
      "cell_type": "code",
      "source": [
        "## Q - 4\n",
        "%%R\n",
        "\n",
        "MedianOfArray <- function(n1, n2) {\n",
        "    size <- length(n1) + length(n2)\n",
        "    n3 = c(n1, n2)\n",
        "    n3 = sort(n3)\n",
        "\n",
        "    if (size %% 2 == 0) {\n",
        "        mid <- size / 2\n",
        "        median <- (n3[mid-1] + n3[mid]) / 2\n",
        "        print(n3[median])\n",
        "\n",
        "    } else if(size %% 2 != 0){\n",
        "        mid <- (size + 1) / 2\n",
        "        print(n3[mid])\n",
        "  }\n",
        "}\n",
        "\n",
        "array1 <- c(1,3)\n",
        "array2 <- c(2)\n",
        "\n",
        "result <- MedianOfArray(array1, array2)"
      ],
      "metadata": {
        "colab": {
          "base_uri": "https://localhost:8080/"
        },
        "id": "meN-SvYuH_jG",
        "outputId": "f4bdd190-63d6-4d2a-9af2-611324408e02"
      },
      "execution_count": null,
      "outputs": [
        {
          "output_type": "stream",
          "name": "stdout",
          "text": [
            "[1] 2\n"
          ]
        }
      ]
    }
  ]
}